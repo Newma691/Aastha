{
 "cells": [
  {
   "cell_type": "code",
   "execution_count": 1,
   "id": "fbea3776",
   "metadata": {},
   "outputs": [],
   "source": [
    "import numpy as np\n",
    "import pandas as pd\n",
    "import seaborn as sns\n",
    "import matplotlib.pyplot as plt\n",
    "import warnings\n",
    "warnings.filterwarnings('ignore')"
   ]
  },
  {
   "cell_type": "markdown",
   "id": "f77c6d2a",
   "metadata": {},
   "source": [
    "## Generating data using different distribution"
   ]
  },
  {
   "cell_type": "code",
   "execution_count": 2,
   "id": "63e6be7d",
   "metadata": {},
   "outputs": [],
   "source": [
    "n_samples=1000\n",
    "np.random.seed(5)\n",
    "x1=np.random.weibull(2,n_samples)\n",
    "x2=np.random.weibull(3,n_samples)*1.5\n",
    "x3=np.random.normal(0,1,n_samples)\n",
    "x4=np.random.beta(2,5,n_samples)\n",
    "x5=np.random.exponential(0.5,n_samples)\n",
    "coefficients=np.random.rand(5)\n",
    "y = coefficients[0]*x1 + coefficients[1]*x2 + coefficients[2]*x3 + coefficients[3]*x4 + coefficients[4]*x5 + np.random.normal(2,0.5,n_samples)"
   ]
  },
  {
   "cell_type": "code",
   "execution_count": 3,
   "id": "2a5455b5",
   "metadata": {},
   "outputs": [],
   "source": [
    "data = {\n",
    "    'x1': x1,\n",
    "    'x2': x2,\n",
    "    'x3': x3,\n",
    "    'x4': x4,\n",
    "    'x5': x5,\n",
    "    'target': y\n",
    "}\n",
    "df=pd.DataFrame(data)"
   ]
  },
  {
   "cell_type": "markdown",
   "id": "e54e419d",
   "metadata": {},
   "source": [
    "### Description of data"
   ]
  },
  {
   "cell_type": "code",
   "execution_count": 4,
   "id": "c02b676d",
   "metadata": {},
   "outputs": [
    {
     "data": {
      "text/html": [
       "<div>\n",
       "<style scoped>\n",
       "    .dataframe tbody tr th:only-of-type {\n",
       "        vertical-align: middle;\n",
       "    }\n",
       "\n",
       "    .dataframe tbody tr th {\n",
       "        vertical-align: top;\n",
       "    }\n",
       "\n",
       "    .dataframe thead th {\n",
       "        text-align: right;\n",
       "    }\n",
       "</style>\n",
       "<table border=\"1\" class=\"dataframe\">\n",
       "  <thead>\n",
       "    <tr style=\"text-align: right;\">\n",
       "      <th></th>\n",
       "      <th>x1</th>\n",
       "      <th>x2</th>\n",
       "      <th>x3</th>\n",
       "      <th>x4</th>\n",
       "      <th>x5</th>\n",
       "      <th>target</th>\n",
       "    </tr>\n",
       "  </thead>\n",
       "  <tbody>\n",
       "    <tr>\n",
       "      <th>count</th>\n",
       "      <td>1000.000000</td>\n",
       "      <td>1000.000000</td>\n",
       "      <td>1000.000000</td>\n",
       "      <td>1000.000000</td>\n",
       "      <td>1000.000000</td>\n",
       "      <td>1000.000000</td>\n",
       "    </tr>\n",
       "    <tr>\n",
       "      <th>mean</th>\n",
       "      <td>0.875305</td>\n",
       "      <td>1.375017</td>\n",
       "      <td>-0.039207</td>\n",
       "      <td>0.289021</td>\n",
       "      <td>0.481878</td>\n",
       "      <td>2.963499</td>\n",
       "    </tr>\n",
       "    <tr>\n",
       "      <th>std</th>\n",
       "      <td>0.450936</td>\n",
       "      <td>0.480109</td>\n",
       "      <td>0.997215</td>\n",
       "      <td>0.159157</td>\n",
       "      <td>0.476266</td>\n",
       "      <td>0.660323</td>\n",
       "    </tr>\n",
       "    <tr>\n",
       "      <th>min</th>\n",
       "      <td>0.019570</td>\n",
       "      <td>0.154486</td>\n",
       "      <td>-3.507475</td>\n",
       "      <td>0.008339</td>\n",
       "      <td>0.000255</td>\n",
       "      <td>1.191663</td>\n",
       "    </tr>\n",
       "    <tr>\n",
       "      <th>25%</th>\n",
       "      <td>0.538080</td>\n",
       "      <td>1.023893</td>\n",
       "      <td>-0.721560</td>\n",
       "      <td>0.167162</td>\n",
       "      <td>0.125976</td>\n",
       "      <td>2.511850</td>\n",
       "    </tr>\n",
       "    <tr>\n",
       "      <th>50%</th>\n",
       "      <td>0.829421</td>\n",
       "      <td>1.358117</td>\n",
       "      <td>-0.040458</td>\n",
       "      <td>0.269293</td>\n",
       "      <td>0.336819</td>\n",
       "      <td>2.952338</td>\n",
       "    </tr>\n",
       "    <tr>\n",
       "      <th>75%</th>\n",
       "      <td>1.173568</td>\n",
       "      <td>1.706695</td>\n",
       "      <td>0.617761</td>\n",
       "      <td>0.387356</td>\n",
       "      <td>0.664678</td>\n",
       "      <td>3.399084</td>\n",
       "    </tr>\n",
       "    <tr>\n",
       "      <th>max</th>\n",
       "      <td>2.552030</td>\n",
       "      <td>3.109389</td>\n",
       "      <td>2.853769</td>\n",
       "      <td>0.839504</td>\n",
       "      <td>2.820631</td>\n",
       "      <td>5.570302</td>\n",
       "    </tr>\n",
       "  </tbody>\n",
       "</table>\n",
       "</div>"
      ],
      "text/plain": [
       "                x1           x2           x3           x4           x5  \\\n",
       "count  1000.000000  1000.000000  1000.000000  1000.000000  1000.000000   \n",
       "mean      0.875305     1.375017    -0.039207     0.289021     0.481878   \n",
       "std       0.450936     0.480109     0.997215     0.159157     0.476266   \n",
       "min       0.019570     0.154486    -3.507475     0.008339     0.000255   \n",
       "25%       0.538080     1.023893    -0.721560     0.167162     0.125976   \n",
       "50%       0.829421     1.358117    -0.040458     0.269293     0.336819   \n",
       "75%       1.173568     1.706695     0.617761     0.387356     0.664678   \n",
       "max       2.552030     3.109389     2.853769     0.839504     2.820631   \n",
       "\n",
       "            target  \n",
       "count  1000.000000  \n",
       "mean      2.963499  \n",
       "std       0.660323  \n",
       "min       1.191663  \n",
       "25%       2.511850  \n",
       "50%       2.952338  \n",
       "75%       3.399084  \n",
       "max       5.570302  "
      ]
     },
     "execution_count": 4,
     "metadata": {},
     "output_type": "execute_result"
    }
   ],
   "source": [
    "df.describe()"
   ]
  },
  {
   "cell_type": "markdown",
   "id": "082944d8",
   "metadata": {},
   "source": [
    "### Correlation between covariates and response"
   ]
  },
  {
   "cell_type": "code",
   "execution_count": 5,
   "id": "ed934a14",
   "metadata": {},
   "outputs": [
    {
     "data": {
      "text/plain": [
       "<Axes: >"
      ]
     },
     "execution_count": 5,
     "metadata": {},
     "output_type": "execute_result"
    },
    {
     "data": {
      "image/png": "[encoded data removed]",
      "text/plain": [
       "<Figure size 1000x600 with 2 Axes>"
      ]
     },
     "metadata": {},
     "output_type": "display_data"
    }
   ],
   "source": [
    "plt.figure(figsize=(10,6))\n",
    "sns.heatmap(df.corr(),annot=True)"
   ]
  },
  {
   "cell_type": "markdown",
   "id": "7c463805",
   "metadata": {},
   "source": [
    "### Insights\n",
    "- X5 and target are highly correlated"
   ]
  },
  {
   "cell_type": "markdown",
   "id": "87efd516",
   "metadata": {},
   "source": [
    "### Box Plot of all variables"
   ]
  },
  {
   "cell_type": "code",
   "execution_count": 6,
   "id": "dd76219f",
   "metadata": {},
   "outputs": [
    {
     "data": {
      "text/plain": [
       "<Axes: >"
      ]
     },
     "execution_count": 6,
     "metadata": {},
     "output_type": "execute_result"
    },
    {
     "data": {
      "image/png": "[encoded data removed]",
      "text/plain": [
       "<Figure size 640x480 with 1 Axes>"
      ]
     },
     "metadata": {},
     "output_type": "display_data"
    }
   ],
   "source": [
    "sns.boxplot(df)"
   ]
  },
  {
   "cell_type": "markdown",
   "id": "410aacea",
   "metadata": {},
   "source": [
    "## Insights\n",
    "- Every variable has some outliers -X5,target,X1 has more outliers than others"
   ]
  },
  {
   "cell_type": "markdown",
   "id": "bef12591",
   "metadata": {},
   "source": [
    "## Handling outliers, we used technique of removing rows and replacing it by mean or median"
   ]
  },
  {
   "cell_type": "code",
   "execution_count": 7,
   "id": "ea132a99",
   "metadata": {},
   "outputs": [],
   "source": [
    "minimum,Q1,Q2,Q3,maximum=np.quantile(df['x1'],[0,0.25,0.50,0.75,1.0])\n",
    "IQR = Q3-Q1\n",
    "lower_fence = Q1-1.5*(IQR)\n",
    "higher_fence=Q3+1.5*(IQR)\n",
    "replacement_value = 0.829421\n",
    "\n",
    "# Iterate over the indices of the DataFrame\n",
    "for i in df.index:\n",
    "    value = df.at[i, 'x1']  # Get the value of 'x5' at index i\n",
    "    if value < lower_fence or value > higher_fence:\n",
    "        df.at[i, 'x1'] = replacement_value"
   ]
  },
  {
   "cell_type": "code",
   "execution_count": 8,
   "id": "51b6feaf",
   "metadata": {},
   "outputs": [],
   "source": [
    "##Finding Outliers\n",
    "minimum,Q1,Q2,Q3,maximum=np.quantile(df['x2'],[0,0.25,0.50,0.75,1.0])\n",
    "IQR = Q3-Q1\n",
    "lower_fence = Q1-1.5*(IQR)\n",
    "higher_fence=Q3+1.5*(IQR)\n",
    "df = df[(df['x2'] >= lower_fence) & (df['x2'] <= higher_fence)]"
   ]
  },
  {
   "cell_type": "code",
   "execution_count": 9,
   "id": "cb1aeec4",
   "metadata": {},
   "outputs": [],
   "source": [
    "minimum,Q1,Q2,Q3,maximum=np.quantile(df['x3'],[0,0.25,0.50,0.75,1.0])\n",
    "IQR = Q3-Q1\n",
    "lower_fence = Q1-1.5*(IQR)\n",
    "higher_fence=Q3+1.5*(IQR)\n",
    "replacement_value = -0.039207\n",
    "\n",
    "# Iterate over the indices of the DataFrame\n",
    "for i in df.index:\n",
    "    value = df.at[i, 'x3']  # Get the value of 'x5' at index i\n",
    "    if value < lower_fence or value > higher_fence:\n",
    "        df.at[i, 'x3'] = replacement_value"
   ]
  },
  {
   "cell_type": "code",
   "execution_count": 10,
   "id": "f971e940",
   "metadata": {},
   "outputs": [],
   "source": [
    "minimum,Q1,Q2,Q3,maximum=np.quantile(df['x5'],[0,0.25,0.50,0.75,1.0])\n",
    "IQR = Q3-Q1\n",
    "lower_fence = Q1-1.5*(IQR)\n",
    "higher_fence=Q3+1.5*(IQR)\n",
    "replacement_value = 0.480819\n",
    "\n",
    "# Iterate over the indices of the DataFrame\n",
    "for i in df.index:\n",
    "    value = df.at[i, 'x5']  # Get the value of 'x5' at index i\n",
    "    if value < lower_fence or value > higher_fence:\n",
    "        df.at[i, 'x5'] = replacement_value"
   ]
  },
  {
   "cell_type": "code",
   "execution_count": 11,
   "id": "53e78507",
   "metadata": {},
   "outputs": [],
   "source": [
    "minimum,Q1,Q2,Q3,maximum=np.quantile(df['target'],[0,0.25,0.50,0.75,1.0])\n",
    "IQR = Q3-Q1\n",
    "lower_fence = Q1-1.5*(IQR)\n",
    "higher_fence=Q3+1.5*(IQR)\n",
    "replacement_value = 2.961950\n",
    "\n",
    "# Iterate over the indices of the DataFrame\n",
    "for i in df.index:\n",
    "    value = df.at[i, 'target']  # Get the value of 'x5' at index i\n",
    "    if value < lower_fence or value > higher_fence:\n",
    "        df.at[i, 'target'] = replacement_value"
   ]
  },
  {
   "cell_type": "markdown",
   "id": "35315531",
   "metadata": {},
   "source": [
    "## Boxplot after removing outliers"
   ]
  },
  {
   "cell_type": "code",
   "execution_count": 12,
   "id": "e0e2c41b",
   "metadata": {},
   "outputs": [
    {
     "data": {
      "text/plain": [
       "<Axes: >"
      ]
     },
     "execution_count": 12,
     "metadata": {},
     "output_type": "execute_result"
    },
    {
     "data": {
      "image/png": "[encoded data removed]",
      "text/plain": [
       "<Figure size 640x480 with 1 Axes>"
      ]
     },
     "metadata": {},
     "output_type": "display_data"
    }
   ],
   "source": [
    "sns.boxplot(df)  "
   ]
  },
  {
   "cell_type": "markdown",
   "id": "78f5646b",
   "metadata": {},
   "source": [
    "## Training data \n",
    "## Applying Random survival forest on training data and then predicting by test data"
   ]
  },
  {
   "cell_type": "code",
   "execution_count": 13,
   "id": "3c98f31d",
   "metadata": {},
   "outputs": [],
   "source": [
    "from sklearn.model_selection import train_test_split"
   ]
  },
  {
   "cell_type": "code",
   "execution_count": 14,
   "id": "da9df022",
   "metadata": {},
   "outputs": [],
   "source": [
    "X = df.drop(columns=['target'])\n",
    "binary_numbers = np.random.randint(2, size=997)\n",
    "y = pd.DataFrame(binary_numbers, columns=['cens'], index=X.index)\n",
    "y = pd.concat([y, df['target']], axis=1)\n",
    "event_indicator_train = np.array(y[\"cens\"], dtype=bool)\n",
    "time_of_event_train = np.array(y[\"target\"], dtype=float)\n",
    "y= np.array(list(zip(event_indicator_train, time_of_event_train)), dtype=[('event', bool), ('time', float)])"
   ]
  },
  {
   "cell_type": "code",
   "execution_count": 15,
   "id": "644bdbaa",
   "metadata": {
    "scrolled": true
   },
   "outputs": [],
   "source": [
    "X_train, X_test, y_train, y_test= train_test_split(X, y,test_size=0.2,random_state=1234)"
   ]
  },
  {
   "cell_type": "code",
   "execution_count": 16,
   "id": "99a038c1",
   "metadata": {},
   "outputs": [],
   "source": [
    "from sksurv.ensemble import RandomSurvivalForest"
   ]
  },
  {
   "cell_type": "code",
   "execution_count": 17,
   "id": "1ee5c2d4",
   "metadata": {},
   "outputs": [
    {
     "data": {
      "text/html": [
       "<style>#sk-container-id-1 {color: black;}#sk-container-id-1 pre{padding: 0;}#sk-container-id-1 div.sk-toggleable {background-color: white;}#sk-container-id-1 label.sk-toggleable__label {cursor: pointer;display: block;width: 100%;margin-bottom: 0;padding: 0.3em;box-sizing: border-box;text-align: center;}#sk-container-id-1 label.sk-toggleable__label-arrow:before {content: \"▸\";float: left;margin-right: 0.25em;color: #696969;}#sk-container-id-1 label.sk-toggleable__label-arrow:hover:before {color: black;}#sk-container-id-1 div.sk-estimator:hover label.sk-toggleable__label-arrow:before {color: black;}#sk-container-id-1 div.sk-toggleable__content {max-height: 0;max-width: 0;overflow: hidden;text-align: left;background-color: #f0f8ff;}#sk-container-id-1 div.sk-toggleable__content pre {margin: 0.2em;color: black;border-radius: 0.25em;background-color: #f0f8ff;}#sk-container-id-1 input.sk-toggleable__control:checked~div.sk-toggleable__content {max-height: 200px;max-width: 100%;overflow: auto;}#sk-container-id-1 input.sk-toggleable__control:checked~label.sk-toggleable__label-arrow:before {content: \"▾\";}#sk-container-id-1 div.sk-estimator input.sk-toggleable__control:checked~label.sk-toggleable__label {background-color: #d4ebff;}#sk-container-id-1 div.sk-label input.sk-toggleable__control:checked~label.sk-toggleable__label {background-color: #d4ebff;}#sk-container-id-1 input.sk-hidden--visually {border: 0;clip: rect(1px 1px 1px 1px);clip: rect(1px, 1px, 1px, 1px);height: 1px;margin: -1px;overflow: hidden;padding: 0;position: absolute;width: 1px;}#sk-container-id-1 div.sk-estimator {font-family: monospace;background-color: #f0f8ff;border: 1px dotted black;border-radius: 0.25em;box-sizing: border-box;margin-bottom: 0.5em;}#sk-container-id-1 div.sk-estimator:hover {background-color: #d4ebff;}#sk-container-id-1 div.sk-parallel-item::after {content: \"\";width: 100%;border-bottom: 1px solid gray;flex-grow: 1;}#sk-container-id-1 div.sk-label:hover label.sk-toggleable__label {background-color: #d4ebff;}#sk-container-id-1 div.sk-serial::before {content: \"\";position: absolute;border-left: 1px solid gray;box-sizing: border-box;top: 0;bottom: 0;left: 50%;z-index: 0;}#sk-container-id-1 div.sk-serial {display: flex;flex-direction: column;align-items: center;background-color: white;padding-right: 0.2em;padding-left: 0.2em;position: relative;}#sk-container-id-1 div.sk-item {position: relative;z-index: 1;}#sk-container-id-1 div.sk-parallel {display: flex;align-items: stretch;justify-content: center;background-color: white;position: relative;}#sk-container-id-1 div.sk-item::before, #sk-container-id-1 div.sk-parallel-item::before {content: \"\";position: absolute;border-left: 1px solid gray;box-sizing: border-box;top: 0;bottom: 0;left: 50%;z-index: -1;}#sk-container-id-1 div.sk-parallel-item {display: flex;flex-direction: column;z-index: 1;position: relative;background-color: white;}#sk-container-id-1 div.sk-parallel-item:first-child::after {align-self: flex-end;width: 50%;}#sk-container-id-1 div.sk-parallel-item:last-child::after {align-self: flex-start;width: 50%;}#sk-container-id-1 div.sk-parallel-item:only-child::after {width: 0;}#sk-container-id-1 div.sk-dashed-wrapped {border: 1px dashed gray;margin: 0 0.4em 0.5em 0.4em;box-sizing: border-box;padding-bottom: 0.4em;background-color: white;}#sk-container-id-1 div.sk-label label {font-family: monospace;font-weight: bold;display: inline-block;line-height: 1.2em;}#sk-container-id-1 div.sk-label-container {text-align: center;}#sk-container-id-1 div.sk-container {/* jupyter's `normalize.less` sets `[hidden] { display: none; }` but bootstrap.min.css set `[hidden] { display: none !important; }` so we also need the `!important` here to be able to override the default hidden behavior on the sphinx rendered scikit-learn.org. See: https://github.com/scikit-learn/scikit-learn/issues/21755 */display: inline-block !important;position: relative;}#sk-container-id-1 div.sk-text-repr-fallback {display: none;}</style><div id=\"sk-container-id-1\" class=\"sk-top-container\"><div class=\"sk-text-repr-fallback\"><pre>RandomSurvivalForest(min_samples_leaf=15, min_samples_split=10,\n",
       "                     n_estimators=1000, n_jobs=-1, random_state=20)</pre><b>In a Jupyter environment, please rerun this cell to show the HTML representation or trust the notebook. <br />On GitHub, the HTML representation is unable to render, please try loading this page with nbviewer.org.</b></div><div class=\"sk-container\" hidden><div class=\"sk-item\"><div class=\"sk-estimator sk-toggleable\"><input class=\"sk-toggleable__control sk-hidden--visually\" id=\"sk-estimator-id-1\" type=\"checkbox\" checked><label for=\"sk-estimator-id-1\" class=\"sk-toggleable__label sk-toggleable__label-arrow\">RandomSurvivalForest</label><div class=\"sk-toggleable__content\"><pre>RandomSurvivalForest(min_samples_leaf=15, min_samples_split=10,\n",
       "                     n_estimators=1000, n_jobs=-1, random_state=20)</pre></div></div></div></div></div>"
      ],
      "text/plain": [
       "RandomSurvivalForest(min_samples_leaf=15, min_samples_split=10,\n",
       "                     n_estimators=1000, n_jobs=-1, random_state=20)"
      ]
     },
     "execution_count": 17,
     "metadata": {},
     "output_type": "execute_result"
    }
   ],
   "source": [
    "rsf = RandomSurvivalForest(\n",
    "    n_estimators=1000, min_samples_split=10, min_samples_leaf=15, n_jobs=-1, random_state=20\n",
    ")\n",
    "rsf.fit(X_train, y_train)"
   ]
  },
  {
   "cell_type": "markdown",
   "id": "1f95a3be",
   "metadata": {},
   "source": [
    "### Calculating score"
   ]
  },
  {
   "cell_type": "code",
   "execution_count": 18,
   "id": "79a0d3f4",
   "metadata": {},
   "outputs": [
    {
     "data": {
      "text/plain": [
       "0.682282098387426"
      ]
     },
     "execution_count": 18,
     "metadata": {},
     "output_type": "execute_result"
    }
   ],
   "source": [
    "rsf.score(X_test, y_test)"
   ]
  },
  {
   "cell_type": "markdown",
   "id": "9e68fe47",
   "metadata": {},
   "source": [
    "# The score is 68.23%"
   ]
  },
  {
   "cell_type": "code",
   "execution_count": 21,
   "id": "28eb0aeb",
   "metadata": {},
   "outputs": [
    {
     "data": {
      "text/plain": [
       "0      348.398251\n",
       "1      352.756529\n",
       "2      126.902714\n",
       "3      305.675698\n",
       "4      291.713590\n",
       "          ...    \n",
       "195    217.700268\n",
       "196    305.737673\n",
       "197     65.795359\n",
       "198    203.899555\n",
       "199     76.309319\n",
       "Length: 200, dtype: float64"
      ]
     },
     "execution_count": 21,
     "metadata": {},
     "output_type": "execute_result"
    }
   ],
   "source": [
    "X_test_sorted = X_test.sort_values(by=[\"x3\", \"x5\"])\n",
    "pd.Series(rsf.predict(X_test_sorted))"
   ]
  },
  {
   "cell_type": "code",
   "execution_count": null,
   "id": "3728f1af",
   "metadata": {},
   "outputs": [],
   "source": []
  }
 ],
 "metadata": {
  "kernelspec": {
   "display_name": "Python 3 (ipykernel)",
   "language": "python",
   "name": "python3"
  },
  "language_info": {
   "codemirror_mode": {
    "name": "ipython",
    "version": 3
   },
   "file_extension": ".py",
   "mimetype": "text/x-python",
   "name": "python",
   "nbconvert_exporter": "python",
   "pygments_lexer": "ipython3",
   "version": "3.11.5"
  }
 },
 "nbformat": 4,
 "nbformat_minor": 5
}
